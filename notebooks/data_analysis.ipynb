{
 "cells": [
  {
   "metadata": {},
   "cell_type": "code",
   "outputs": [],
   "execution_count": null,
   "source": "",
   "id": "8958b8b2783e2c2c"
  },
  {
   "metadata": {},
   "cell_type": "markdown",
   "source": "",
   "id": "3f5b7eaa158a095b"
  },
  {
   "metadata": {},
   "cell_type": "code",
   "outputs": [],
   "execution_count": null,
   "source": "",
   "id": "1cf3a1659a71eb6d"
  },
  {
   "metadata": {},
   "cell_type": "markdown",
   "source": "",
   "id": "22fc6e63936a1937"
  },
  {
   "metadata": {},
   "cell_type": "code",
   "outputs": [],
   "execution_count": null,
   "source": "",
   "id": "f66e1a52876566b6"
  }
 ],
 "metadata": {},
 "nbformat": 5,
 "nbformat_minor": 9
}
