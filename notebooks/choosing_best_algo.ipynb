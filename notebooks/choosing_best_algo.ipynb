{
 "metadata": {
  "kernelspec": {
   "language": "python",
   "display_name": "Python 3",
   "name": "python3"
  },
  "language_info": {
   "name": "python",
   "version": "3.10.12",
   "mimetype": "text/x-python",
   "codemirror_mode": {
    "name": "ipython",
    "version": 3
   },
   "pygments_lexer": "ipython3",
   "nbconvert_exporter": "python",
   "file_extension": ".py"
  },
  "kaggle": {
   "accelerator": "none",
   "dataSources": [
    {
     "sourceId": 93417,
     "databundleVersionId": 11122311,
     "sourceType": "competition"
    }
   ],
   "dockerImageVersionId": 30918,
   "isInternetEnabled": false,
   "language": "python",
   "sourceType": "notebook",
   "isGpuEnabled": false
  }
 },
 "nbformat_minor": 4,
 "nbformat": 4,
 "cells": [
  {
   "metadata": {},
   "cell_type": "markdown",
   "source": "(Описание к коду написано под элементами с кодом)"
  },
  {
   "cell_type": "code",
   "source": [
    "# This Python 3 environment comes with many helpful analytics libraries installed\n",
    "# It is defined by the kaggle/python Docker image: https://github.com/kaggle/docker-python\n",
    "# For example, here's several helpful packages to load\n",
    "\n",
    "import numpy as np # linear algebra\n",
    "import pandas as pd # data processing, CSV file I/O (e.g. pd.read_csv)\n",
    "\n",
    "# Input data files are available in the read-only \"../input/\" directory\n",
    "# For example, running this (by clicking run or pressing Shift+Enter) will list all files under the input directory\n",
    "\n",
    "import os\n",
    "for dirname, _, filenames in os.walk(\"..\\\\data\\\\inputs\"):\n",
    "    for filename in filenames:\n",
    "        print(os.path.join(dirname, filename))"
   ],
   "metadata": {
    "_uuid": "8f2839f25d086af736a60e9eeb907d3b93b6e0e5",
    "_cell_guid": "b1076dfc-b9ad-4769-8c92-a6c4dae69d19",
    "trusted": true,
    "execution": {
     "iopub.status.busy": "2025-03-18T21:51:29.068774Z",
     "iopub.execute_input": "2025-03-18T21:51:29.069155Z",
     "iopub.status.idle": "2025-03-18T21:51:29.592544Z",
     "shell.execute_reply.started": "2025-03-18T21:51:29.069121Z",
     "shell.execute_reply": "2025-03-18T21:51:29.591244Z"
    },
    "ExecuteTime": {
     "end_time": "2025-03-18T22:10:08.897537Z",
     "start_time": "2025-03-18T22:10:08.894225Z"
    }
   },
   "outputs": [
    {
     "name": "stdout",
     "output_type": "stream",
     "text": [
      "..\\data\\inputs\\test.csv\n",
      "..\\data\\inputs\\train.csv\n"
     ]
    }
   ],
   "execution_count": 18
  },
  {
   "cell_type": "markdown",
   "source": "Смотрим какие файлы есть в папке",
   "metadata": {}
  },
  {
   "cell_type": "code",
   "source": [
    "train_data = pd.read_csv(\"..\\\\data\\\\inputs\\\\train.csv\")\n",
    "test_data = pd.read_csv(\"..\\\\data\\\\inputs\\\\test.csv\")\n",
    "\n",
    "train_data.head()\n",
    "test_data.head()"
   ],
   "metadata": {
    "trusted": true,
    "execution": {
     "iopub.status.busy": "2025-03-18T21:51:29.593979Z",
     "iopub.execute_input": "2025-03-18T21:51:29.594632Z",
     "iopub.status.idle": "2025-03-18T21:51:29.683007Z",
     "shell.execute_reply.started": "2025-03-18T21:51:29.594590Z",
     "shell.execute_reply": "2025-03-18T21:51:29.681921Z"
    },
    "ExecuteTime": {
     "end_time": "2025-03-18T22:08:41.844228Z",
     "start_time": "2025-03-18T22:08:41.785369Z"
    }
   },
   "outputs": [
    {
     "data": {
      "text/plain": [
       "  PassengerId HomePlanet CryoSleep  Cabin  Destination   Age    VIP  \\\n",
       "0     0013_01      Earth      True  G/3/S  TRAPPIST-1e  27.0  False   \n",
       "1     0018_01      Earth     False  F/4/S  TRAPPIST-1e  19.0  False   \n",
       "2     0019_01     Europa      True  C/0/S  55 Cancri e  31.0  False   \n",
       "3     0021_01     Europa     False  C/1/S  TRAPPIST-1e  38.0  False   \n",
       "4     0023_01      Earth     False  F/5/S  TRAPPIST-1e  20.0  False   \n",
       "\n",
       "   RoomService  FoodCourt  ShoppingMall     Spa  VRDeck              Name  \n",
       "0          0.0        0.0           0.0     0.0     0.0   Nelly Carsoning  \n",
       "1          0.0        9.0           0.0  2823.0     0.0    Lerome Peckers  \n",
       "2          0.0        0.0           0.0     0.0     0.0   Sabih Unhearfus  \n",
       "3          0.0     6652.0           0.0   181.0   585.0  Meratz Caltilter  \n",
       "4         10.0        0.0         635.0     0.0     0.0   Brence Harperez  "
      ],
      "text/html": [
       "<div>\n",
       "<style scoped>\n",
       "    .dataframe tbody tr th:only-of-type {\n",
       "        vertical-align: middle;\n",
       "    }\n",
       "\n",
       "    .dataframe tbody tr th {\n",
       "        vertical-align: top;\n",
       "    }\n",
       "\n",
       "    .dataframe thead th {\n",
       "        text-align: right;\n",
       "    }\n",
       "</style>\n",
       "<table border=\"1\" class=\"dataframe\">\n",
       "  <thead>\n",
       "    <tr style=\"text-align: right;\">\n",
       "      <th></th>\n",
       "      <th>PassengerId</th>\n",
       "      <th>HomePlanet</th>\n",
       "      <th>CryoSleep</th>\n",
       "      <th>Cabin</th>\n",
       "      <th>Destination</th>\n",
       "      <th>Age</th>\n",
       "      <th>VIP</th>\n",
       "      <th>RoomService</th>\n",
       "      <th>FoodCourt</th>\n",
       "      <th>ShoppingMall</th>\n",
       "      <th>Spa</th>\n",
       "      <th>VRDeck</th>\n",
       "      <th>Name</th>\n",
       "    </tr>\n",
       "  </thead>\n",
       "  <tbody>\n",
       "    <tr>\n",
       "      <th>0</th>\n",
       "      <td>0013_01</td>\n",
       "      <td>Earth</td>\n",
       "      <td>True</td>\n",
       "      <td>G/3/S</td>\n",
       "      <td>TRAPPIST-1e</td>\n",
       "      <td>27.0</td>\n",
       "      <td>False</td>\n",
       "      <td>0.0</td>\n",
       "      <td>0.0</td>\n",
       "      <td>0.0</td>\n",
       "      <td>0.0</td>\n",
       "      <td>0.0</td>\n",
       "      <td>Nelly Carsoning</td>\n",
       "    </tr>\n",
       "    <tr>\n",
       "      <th>1</th>\n",
       "      <td>0018_01</td>\n",
       "      <td>Earth</td>\n",
       "      <td>False</td>\n",
       "      <td>F/4/S</td>\n",
       "      <td>TRAPPIST-1e</td>\n",
       "      <td>19.0</td>\n",
       "      <td>False</td>\n",
       "      <td>0.0</td>\n",
       "      <td>9.0</td>\n",
       "      <td>0.0</td>\n",
       "      <td>2823.0</td>\n",
       "      <td>0.0</td>\n",
       "      <td>Lerome Peckers</td>\n",
       "    </tr>\n",
       "    <tr>\n",
       "      <th>2</th>\n",
       "      <td>0019_01</td>\n",
       "      <td>Europa</td>\n",
       "      <td>True</td>\n",
       "      <td>C/0/S</td>\n",
       "      <td>55 Cancri e</td>\n",
       "      <td>31.0</td>\n",
       "      <td>False</td>\n",
       "      <td>0.0</td>\n",
       "      <td>0.0</td>\n",
       "      <td>0.0</td>\n",
       "      <td>0.0</td>\n",
       "      <td>0.0</td>\n",
       "      <td>Sabih Unhearfus</td>\n",
       "    </tr>\n",
       "    <tr>\n",
       "      <th>3</th>\n",
       "      <td>0021_01</td>\n",
       "      <td>Europa</td>\n",
       "      <td>False</td>\n",
       "      <td>C/1/S</td>\n",
       "      <td>TRAPPIST-1e</td>\n",
       "      <td>38.0</td>\n",
       "      <td>False</td>\n",
       "      <td>0.0</td>\n",
       "      <td>6652.0</td>\n",
       "      <td>0.0</td>\n",
       "      <td>181.0</td>\n",
       "      <td>585.0</td>\n",
       "      <td>Meratz Caltilter</td>\n",
       "    </tr>\n",
       "    <tr>\n",
       "      <th>4</th>\n",
       "      <td>0023_01</td>\n",
       "      <td>Earth</td>\n",
       "      <td>False</td>\n",
       "      <td>F/5/S</td>\n",
       "      <td>TRAPPIST-1e</td>\n",
       "      <td>20.0</td>\n",
       "      <td>False</td>\n",
       "      <td>10.0</td>\n",
       "      <td>0.0</td>\n",
       "      <td>635.0</td>\n",
       "      <td>0.0</td>\n",
       "      <td>0.0</td>\n",
       "      <td>Brence Harperez</td>\n",
       "    </tr>\n",
       "  </tbody>\n",
       "</table>\n",
       "</div>"
      ]
     },
     "execution_count": 12,
     "metadata": {},
     "output_type": "execute_result"
    }
   ],
   "execution_count": 12
  },
  {
   "cell_type": "markdown",
   "source": "Загружаем тренировочные и тестовые данные из файлов",
   "metadata": {}
  },
  {
   "cell_type": "code",
   "source": "X = train_data.drop(columns = 'Transported')\ny = train_data['Transported']",
   "metadata": {
    "trusted": true,
    "execution": {
     "iopub.status.busy": "2025-03-18T21:51:29.684661Z",
     "iopub.execute_input": "2025-03-18T21:51:29.684964Z",
     "iopub.status.idle": "2025-03-18T21:51:29.701461Z",
     "shell.execute_reply.started": "2025-03-18T21:51:29.684938Z",
     "shell.execute_reply": "2025-03-18T21:51:29.700391Z"
    },
    "ExecuteTime": {
     "end_time": "2025-03-18T22:10:38.022677Z",
     "start_time": "2025-03-18T22:10:38.017451Z"
    }
   },
   "outputs": [],
   "execution_count": 19
  },
  {
   "cell_type": "markdown",
   "source": "Тренировочные данные делим на две части, где одна - только информация о пассажире, а другая - был ли он транспортирован",
   "metadata": {}
  },
  {
   "cell_type": "code",
   "source": "def fill_missing_values(data):\n    numeric_data = [column for column in data.select_dtypes([\"int\", \"float\"])]\n    categorical_data = [column for column in data.select_dtypes(exclude=[\"int\", \"float\"])]\n\n    for col in numeric_data:\n        data[col] = data[col].infer_objects(copy=False).fillna(data[col].median())\n\n    for col in categorical_data:\n        data[col] = data[col].fillna(data[col].value_counts().index[0]).infer_objects(copy=False)\n\n    return data\n\n\ndef data_preparations(data):\n    data = fill_missing_values(data)\n\n    cabin_data = data[\"Cabin\"].str.split(\"/\", expand=True)\n    cabin_data.columns = [\"Deck\", \"Num\", \"Side\"]\n    cabin_data[\"Num\"] = cabin_data[\"Num\"].fillna(-1).astype(int)\n    cabin_data[\"Deck\"] = cabin_data[\"Deck\"].fillna(\"Unknown\")\n    cabin_data[\"Side\"] = cabin_data[\"Side\"].fillna(\"Unknown\")\n\n    data[\"CryoSleep\"] = data[\"CryoSleep\"].astype(bool).fillna(False).astype(int)\n    data[\"VIP\"] = data[\"VIP\"].astype(bool).fillna(False).astype(int)\n\n    # Пробую с суммой всех трат\n    spends_columns = ['RoomService', 'FoodCourt', 'ShoppingMall', 'Spa', 'VRDeck']\n    data[\"Spends\"] = data[spends_columns].sum(axis=1)\n\n    data[\"NoSpends\"] = (data[\"Spends\"] == 0)\n    # print(data.head())\n\n    numeric_columns = [\n        'RoomService', 'FoodCourt', 'ShoppingMall', 'Spa', 'VRDeck', \"Spends\",\n        \"NoSpends\", \"Age\", \"CryoSleep\", \"VIP\"\n    ]\n    numerics = data.copy()[numeric_columns]\n\n    columns_for_dummies = [\"HomePlanet\", \"Destination\"]\n    dummies = pd.get_dummies(cabin_data[[\"Deck\", \"Side\"]].join(data.copy()[columns_for_dummies]))\n\n    result = pd.concat([numerics, dummies], axis=1)\n\n    # print(len(result.columns))\n\n    return result\n\nX = data_preparations(train_data)",
   "metadata": {
    "trusted": true,
    "execution": {
     "iopub.status.busy": "2025-03-18T21:51:32.122966Z",
     "iopub.execute_input": "2025-03-18T21:51:32.123378Z",
     "iopub.status.idle": "2025-03-18T21:51:32.217367Z",
     "shell.execute_reply.started": "2025-03-18T21:51:32.123319Z",
     "shell.execute_reply": "2025-03-18T21:51:32.216156Z"
    },
    "ExecuteTime": {
     "end_time": "2025-03-18T22:10:40.016333Z",
     "start_time": "2025-03-18T22:10:39.975271Z"
    }
   },
   "outputs": [
    {
     "name": "stderr",
     "output_type": "stream",
     "text": [
      "C:\\Users\\IIsovaII\\AppData\\Local\\Temp\\ipykernel_15708\\517489211.py:9: FutureWarning: Downcasting object dtype arrays on .fillna, .ffill, .bfill is deprecated and will change in a future version. Call result.infer_objects(copy=False) instead. To opt-in to the future behavior, set `pd.set_option('future.no_silent_downcasting', True)`\n",
      "  data[col] = data[col].fillna(data[col].value_counts().index[0]).infer_objects(copy=False)\n",
      "C:\\Users\\IIsovaII\\AppData\\Local\\Temp\\ipykernel_15708\\517489211.py:9: FutureWarning: Downcasting object dtype arrays on .fillna, .ffill, .bfill is deprecated and will change in a future version. Call result.infer_objects(copy=False) instead. To opt-in to the future behavior, set `pd.set_option('future.no_silent_downcasting', True)`\n",
      "  data[col] = data[col].fillna(data[col].value_counts().index[0]).infer_objects(copy=False)\n"
     ]
    }
   ],
   "execution_count": 20
  },
  {
   "cell_type": "markdown",
   "source": "Добавляем функции обработци данных",
   "metadata": {}
  },
  {
   "cell_type": "code",
   "source": [
    "import optuna\n",
    "from xgboost import XGBClassifier\n",
    "from lightgbm import LGBMClassifier\n",
    "from catboost import CatBoostClassifier\n",
    "from sklearn.model_selection import train_test_split\n",
    "from sklearn.metrics import roc_auc_score\n",
    "from sklearn.datasets import load_breast_cancer\n",
    "\n",
    "\n",
    "X_train, X_valid, y_train, y_valid = train_test_split(X, y, test_size=0.2, random_state=42)\n",
    "\n",
    "def objective_xgb(trial):\n",
    "    param = {\n",
    "        'objective': 'binary:logistic',\n",
    "        'eval_metric': 'auc',\n",
    "        'booster': 'gbtree',\n",
    "        'lambda': trial.suggest_float('lambda', 1e-3, 10.0, log=True),\n",
    "        'alpha': trial.suggest_float('alpha', 1e-3, 10.0, log=True),\n",
    "        'learning_rate': trial.suggest_float('learning_rate', 1e-3, 1e-1, log=True),\n",
    "        'n_estimators': 300,\n",
    "        'max_depth': trial.suggest_int('max_depth', 3, 9),\n",
    "        'min_child_weight': trial.suggest_int('min_child_weight', 1, 10),\n",
    "        'gamma': trial.suggest_float('gamma', 1e-3, 10.0, log=True),\n",
    "        'subsample': trial.suggest_float('subsample', 0.5, 1.0),\n",
    "        'colsample_bytree': trial.suggest_float('colsample_bytree', 0.5, 1.0),\n",
    "    }\n",
    "\n",
    "    model = XGBClassifier(**param)\n",
    "    model.fit(X_train, y_train)\n",
    "    \n",
    "    preds = model.predict_proba(X_valid)[:, 1]\n",
    "    auc = roc_auc_score(y_valid, preds)\n",
    "    return auc\n",
    "\n",
    "\n",
    "def objective_lgbm(trial):\n",
    "    param = {\n",
    "                \"objective\": \"binary\",\n",
    "                \"metric\": \"\",\n",
    "                \"boosting_type\": 'gbdt',\n",
    "                \"n_estimators\": 300,\n",
    "                \"learning_rate\": 0.043,\n",
    "                \"num_leaves\": trial.suggest_int(\"num_leaves\", 20, 150),\n",
    "                \"max_depth\": trial.suggest_int(\"max_depth\", 3, 5, step=1),\n",
    "                \"min_child_samples\": trial.suggest_int(\"min_child_samples\", 20, 200),\n",
    "                \"subsample\": trial.suggest_float(\"subsample\", 0.4, 1.0),\n",
    "                \"colsample_bytree\": trial.suggest_float(\"colsample_bytree\", 0.3, 1.0),\n",
    "                \"reg_alpha\": trial.suggest_float(\"reg_alpha\", 1e-3, 10.0, log=True),\n",
    "                \"reg_lambda\": trial.suggest_float(\"reg_lambda\", 1e-3, 12.0, log=True),\n",
    "                \"random_state\": trial.suggest_int(\"random_state\", 2, 100, step=2),\n",
    "                \"n_jobs\": -1,\n",
    "                \"verbose\": -1\n",
    "            }\n",
    "\n",
    "    model = LGBMClassifier(**param)\n",
    "    model.fit(X_train, y_train)\n",
    "    \n",
    "    preds = model.predict_proba(X_valid)[:, 1]\n",
    "    auc = roc_auc_score(y_valid, preds)\n",
    "    return auc\n",
    "\n",
    "\n",
    "def objective_catboost(trial):\n",
    "    param = {\n",
    "        'loss_function': 'Logloss',\n",
    "        'iterations': 300,\n",
    "        'depth': trial.suggest_int('depth', 4, 10),\n",
    "        'learning_rate': trial.suggest_float('learning_rate', 1e-3, 1e-1, log=True),\n",
    "        'random_strength': trial.suggest_float('random_strength', 1e-3, 10.0, log=True),\n",
    "        'bagging_temperature': trial.suggest_float('bagging_temperature', 1e-3, 10.0, log=True),\n",
    "        'border_count': trial.suggest_int('border_count', 32, 255),\n",
    "        'l2_leaf_reg': trial.suggest_float('l2_leaf_reg', 1e-3, 10.0, log=True)\n",
    "    }\n",
    "\n",
    "    model = CatBoostClassifier(**param, verbose=0)\n",
    "    model.fit(X_train, y_train)\n",
    "    \n",
    "    preds = model.predict_proba(X_valid)[:, 1]\n",
    "    auc = roc_auc_score(y_valid, preds)\n",
    "    return auc\n",
    "\n",
    "study_xgb = optuna.create_study(direction='maximize')\n",
    "study_lgbm = optuna.create_study(direction='maximize')\n",
    "study_catboost = optuna.create_study(direction='maximize')\n",
    "\n",
    "study_xgb.optimize(objective_xgb, n_trials=3)\n",
    "study_lgbm.optimize(objective_lgbm, n_trials=3)\n",
    "study_catboost.optimize(objective_catboost, n_trials=3)\n",
    "\n",
    "best_trial_xgb = study_xgb.best_trial.params\n",
    "best_trial_lgbm = study_lgbm.best_trial.params\n",
    "best_trial_catboost = study_catboost.best_trial.params\n",
    "\n",
    "print('Best trial for XGBoost:', study_xgb.best_trial.params)\n",
    "print('Best trial for LightGBM:', study_lgbm.best_trial.params)\n",
    "print('Best trial for CatBoost:', study_catboost.best_trial.params)"
   ],
   "metadata": {
    "trusted": true,
    "execution": {
     "iopub.status.busy": "2025-03-18T21:56:10.340937Z",
     "iopub.execute_input": "2025-03-18T21:56:10.341620Z",
     "iopub.status.idle": "2025-03-18T21:56:20.683901Z",
     "shell.execute_reply.started": "2025-03-18T21:56:10.341565Z",
     "shell.execute_reply": "2025-03-18T21:56:20.682917Z"
    },
    "ExecuteTime": {
     "end_time": "2025-03-18T22:40:44.018984Z",
     "start_time": "2025-03-18T22:40:39.236975Z"
    }
   },
   "outputs": [
    {
     "name": "stderr",
     "output_type": "stream",
     "text": [
      "[I 2025-03-19 05:40:39,246] A new study created in memory with name: no-name-11da657c-34fa-4ee7-8d3b-e5c5525a49dd\n",
      "[I 2025-03-19 05:40:39,247] A new study created in memory with name: no-name-6e54bcc7-1cc4-4d2b-9b10-80f161cb5952\n",
      "[I 2025-03-19 05:40:39,248] A new study created in memory with name: no-name-ea481118-cd0a-49a3-be20-e620aa540fe8\n",
      "[I 2025-03-19 05:40:39,528] Trial 0 finished with value: 0.869081351080351 and parameters: {'lambda': 6.450657006879346, 'alpha': 0.09967016644802659, 'learning_rate': 0.0016360313565073196, 'max_depth': 7, 'min_child_weight': 8, 'gamma': 0.013364473811763538, 'subsample': 0.7210887024994775, 'colsample_bytree': 0.9975679265157434}. Best is trial 0 with value: 0.869081351080351.\n",
      "[I 2025-03-19 05:40:39,787] Trial 1 finished with value: 0.8846734871514026 and parameters: {'lambda': 4.511010016261137, 'alpha': 0.0027058196803264813, 'learning_rate': 0.016307762997959118, 'max_depth': 6, 'min_child_weight': 5, 'gamma': 0.6448598275680949, 'subsample': 0.7721921610935881, 'colsample_bytree': 0.6870567369448799}. Best is trial 1 with value: 0.8846734871514026.\n",
      "[I 2025-03-19 05:40:39,966] Trial 2 finished with value: 0.8862641839890577 and parameters: {'lambda': 0.8535798742328009, 'alpha': 0.007058387365648772, 'learning_rate': 0.026655561164108485, 'max_depth': 5, 'min_child_weight': 6, 'gamma': 1.3263839306807987, 'subsample': 0.8000194798947529, 'colsample_bytree': 0.8555485087762065}. Best is trial 2 with value: 0.8862641839890577.\n",
      "[I 2025-03-19 05:40:40,065] Trial 0 finished with value: 0.8813260789620587 and parameters: {'num_leaves': 149, 'max_depth': 3, 'min_child_samples': 21, 'subsample': 0.6209807314759392, 'colsample_bytree': 0.3874794139333886, 'reg_alpha': 2.5075300469087476, 'reg_lambda': 0.00236817378192085, 'random_state': 10}. Best is trial 0 with value: 0.8813260789620587.\n",
      "[I 2025-03-19 05:40:40,246] Trial 1 finished with value: 0.8852138610875206 and parameters: {'num_leaves': 53, 'max_depth': 5, 'min_child_samples': 52, 'subsample': 0.42827940525575325, 'colsample_bytree': 0.627683725634276, 'reg_alpha': 0.015389360291594113, 'reg_lambda': 2.074982694514809, 'random_state': 50}. Best is trial 1 with value: 0.8852138610875206.\n",
      "[I 2025-03-19 05:40:40,364] Trial 2 finished with value: 0.8831991988972934 and parameters: {'num_leaves': 29, 'max_depth': 3, 'min_child_samples': 141, 'subsample': 0.5313831350046307, 'colsample_bytree': 0.7722476354777137, 'reg_alpha': 0.008751479504406162, 'reg_lambda': 0.010162247635147025, 'random_state': 8}. Best is trial 1 with value: 0.8852138610875206.\n",
      "[I 2025-03-19 05:40:41,695] Trial 0 finished with value: 0.8881379653366985 and parameters: {'depth': 4, 'learning_rate': 0.030832390985637493, 'random_strength': 0.036324258617002246, 'bagging_temperature': 0.08039473844291635, 'border_count': 175, 'l2_leaf_reg': 4.8766734778419885}. Best is trial 0 with value: 0.8881379653366985.\n",
      "[I 2025-03-19 05:40:43,302] Trial 1 finished with value: 0.863348228340728 and parameters: {'depth': 7, 'learning_rate': 0.001068903096668677, 'random_strength': 0.8983552857829937, 'bagging_temperature': 2.9727918659834422, 'border_count': 116, 'l2_leaf_reg': 0.02103979478051191}. Best is trial 0 with value: 0.8881379653366985.\n",
      "[I 2025-03-19 05:40:44,011] Trial 2 finished with value: 0.8723712163903286 and parameters: {'depth': 5, 'learning_rate': 0.0066447620391043355, 'random_strength': 0.0342043647797955, 'bagging_temperature': 0.004268689112622101, 'border_count': 219, 'l2_leaf_reg': 2.065891939063038}. Best is trial 0 with value: 0.8881379653366985.\n"
     ]
    },
    {
     "name": "stdout",
     "output_type": "stream",
     "text": [
      "Best trial for XGBoost: {'lambda': 0.8535798742328009, 'alpha': 0.007058387365648772, 'learning_rate': 0.026655561164108485, 'max_depth': 5, 'min_child_weight': 6, 'gamma': 1.3263839306807987, 'subsample': 0.8000194798947529, 'colsample_bytree': 0.8555485087762065}\n",
      "Best trial for LightGBM: {'num_leaves': 53, 'max_depth': 5, 'min_child_samples': 52, 'subsample': 0.42827940525575325, 'colsample_bytree': 0.627683725634276, 'reg_alpha': 0.015389360291594113, 'reg_lambda': 2.074982694514809, 'random_state': 50}\n",
      "Best trial for CatBoost: {'depth': 4, 'learning_rate': 0.030832390985637493, 'random_strength': 0.036324258617002246, 'bagging_temperature': 0.08039473844291635, 'border_count': 175, 'l2_leaf_reg': 4.8766734778419885}\n"
     ]
    }
   ],
   "execution_count": 29
  },
  {
   "cell_type": "markdown",
   "source": "Прописывам метрики для трех алгоритмов, которые потенциально должны хорошо подойти для решения данной задачи. Алгоритмы: XGBClassifier, LGBMClassifier, CatBoostClassifier. У каждого есть как возможность внутреннего обучения, так и подключен модуль optuna, для перебора лучших параметров для алгоритмов, с целью повышения эффективности.",
   "metadata": {}
  },
  {
   "cell_type": "code",
   "source": "best_xgb = XGBClassifier(**best_trial_xgb)\nbest_xgb.fit(X_train, y_train)\nauc_xgb = roc_auc_score(y_valid, best_xgb.predict_proba(X_valid)[:, 1])\n\nbest_lgbm = LGBMClassifier(**best_trial_lgbm)\nbest_lgbm.fit(X_train, y_train)\nauc_lgbm = roc_auc_score(y_valid, best_lgbm.predict_proba(X_valid)[:, 1])\n\nbest_catboost = CatBoostClassifier(**best_trial_catboost, verbose=0)\nbest_catboost.fit(X_train, y_train)\nauc_catboost = roc_auc_score(y_valid, best_catboost.predict_proba(X_valid)[:, 1])\n\nprint(f'Best AUC for XGBoost: {auc_xgb:.4f}')\nprint(f'Best AUC for LightGBM: {auc_lgbm:.4f}')\nprint(f'Best AUC for CatBoost: {auc_catboost:.4f}')",
   "metadata": {
    "trusted": true,
    "execution": {
     "iopub.status.busy": "2025-03-18T21:57:24.844143Z",
     "iopub.execute_input": "2025-03-18T21:57:24.844587Z",
     "iopub.status.idle": "2025-03-18T21:57:29.622388Z",
     "shell.execute_reply.started": "2025-03-18T21:57:24.844555Z",
     "shell.execute_reply": "2025-03-18T21:57:29.621210Z"
    },
    "ExecuteTime": {
     "end_time": "2025-03-18T22:40:50.190856Z",
     "start_time": "2025-03-18T22:40:47.990515Z"
    }
   },
   "outputs": [
    {
     "name": "stdout",
     "output_type": "stream",
     "text": [
      "Best AUC for XGBoost: 0.8812\n",
      "Best AUC for LightGBM: 0.8835\n",
      "Best AUC for CatBoost: 0.8936\n"
     ]
    }
   ],
   "execution_count": 30
  },
  {
   "cell_type": "markdown",
   "source": "Сравниваем лучшие результаты алгоритмов. Наибольшее значение получилось у CatBoostClassifier.",
   "metadata": {}
  },
  {
   "cell_type": "code",
   "source": [
    "X_test = data_preparations(test_data)\n",
    "\n",
    "best_predictions = best_catboost.predict_proba(X_test)[:, 1]\n",
    "best_predictions = (best_predictions > 0.5).astype(int)\n",
    "\n",
    "output = pd.DataFrame({'PassengerId': test_data.PassengerId, 'Transported': best_predictions})\n",
    "output[\"Transported\"] = output[\"Transported\"].astype(bool)\n",
    "\n",
    "output.to_csv('submission.csv', index=False)\n",
    "print(\"Submission was successfully saved!\")"
   ],
   "metadata": {
    "trusted": true,
    "execution": {
     "iopub.status.busy": "2025-03-18T21:57:40.047966Z",
     "iopub.execute_input": "2025-03-18T21:57:40.048460Z",
     "iopub.status.idle": "2025-03-18T21:57:40.107722Z",
     "shell.execute_reply.started": "2025-03-18T21:57:40.048409Z",
     "shell.execute_reply": "2025-03-18T21:57:40.106347Z"
    },
    "ExecuteTime": {
     "end_time": "2025-03-18T22:40:54.037680Z",
     "start_time": "2025-03-18T22:40:54.001761Z"
    }
   },
   "outputs": [
    {
     "name": "stdout",
     "output_type": "stream",
     "text": [
      "Submission was successfully saved!\n"
     ]
    }
   ],
   "execution_count": 31
  },
  {
   "cell_type": "markdown",
   "source": "Обучаем итоговую модель на алгоритме CatBoostClassifier. Записываем результат в файл submission.csv",
   "metadata": {}
  },
  {
   "cell_type": "code",
   "source": [
    "result = pd.read_csv(\"submission.csv\")\n",
    "result.head()"
   ],
   "metadata": {
    "trusted": true,
    "execution": {
     "iopub.status.busy": "2025-03-18T21:57:42.556917Z",
     "iopub.execute_input": "2025-03-18T21:57:42.557371Z",
     "iopub.status.idle": "2025-03-18T21:57:42.572802Z",
     "shell.execute_reply.started": "2025-03-18T21:57:42.557305Z",
     "shell.execute_reply": "2025-03-18T21:57:42.571525Z"
    },
    "ExecuteTime": {
     "end_time": "2025-03-18T22:40:56.554869Z",
     "start_time": "2025-03-18T22:40:56.531957Z"
    }
   },
   "outputs": [
    {
     "data": {
      "text/plain": [
       "  PassengerId  Transported\n",
       "0     0013_01         True\n",
       "1     0018_01        False\n",
       "2     0019_01         True\n",
       "3     0021_01         True\n",
       "4     0023_01         True"
      ],
      "text/html": [
       "<div>\n",
       "<style scoped>\n",
       "    .dataframe tbody tr th:only-of-type {\n",
       "        vertical-align: middle;\n",
       "    }\n",
       "\n",
       "    .dataframe tbody tr th {\n",
       "        vertical-align: top;\n",
       "    }\n",
       "\n",
       "    .dataframe thead th {\n",
       "        text-align: right;\n",
       "    }\n",
       "</style>\n",
       "<table border=\"1\" class=\"dataframe\">\n",
       "  <thead>\n",
       "    <tr style=\"text-align: right;\">\n",
       "      <th></th>\n",
       "      <th>PassengerId</th>\n",
       "      <th>Transported</th>\n",
       "    </tr>\n",
       "  </thead>\n",
       "  <tbody>\n",
       "    <tr>\n",
       "      <th>0</th>\n",
       "      <td>0013_01</td>\n",
       "      <td>True</td>\n",
       "    </tr>\n",
       "    <tr>\n",
       "      <th>1</th>\n",
       "      <td>0018_01</td>\n",
       "      <td>False</td>\n",
       "    </tr>\n",
       "    <tr>\n",
       "      <th>2</th>\n",
       "      <td>0019_01</td>\n",
       "      <td>True</td>\n",
       "    </tr>\n",
       "    <tr>\n",
       "      <th>3</th>\n",
       "      <td>0021_01</td>\n",
       "      <td>True</td>\n",
       "    </tr>\n",
       "    <tr>\n",
       "      <th>4</th>\n",
       "      <td>0023_01</td>\n",
       "      <td>True</td>\n",
       "    </tr>\n",
       "  </tbody>\n",
       "</table>\n",
       "</div>"
      ]
     },
     "execution_count": 32,
     "metadata": {},
     "output_type": "execute_result"
    }
   ],
   "execution_count": 32
  }
 ]
}
